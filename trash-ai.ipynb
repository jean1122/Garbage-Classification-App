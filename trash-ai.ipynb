{
 "cells": [
  {
   "cell_type": "code",
   "execution_count": null,
   "metadata": {
    "id": "7I-y0jOJrwJd"
   },
   "outputs": [],
   "source": [
    "import functools\n",
    "import numpy as np\n",
    "import torch\n",
    "import torch.nn as nn\n",
    "import torch.nn.functional as F\n",
    "import matplotlib.pyplot as plt\n",
    "from torchvision import datasets, transforms\n",
    "from torch.utils.data.sampler import SubsetRandomSampler\n",
    "from sklearn.model_selection import train_test_split\n",
    "from torch.utils.data import DataLoader\n",
    "import config\n",
    "import pytorch_lightning as pl\n",
    "import torchmetrics\n",
    "import torchvision.models as models\n",
    "from math import ceil\n",
    "\n",
    "torch.manual_seed(42)\n",
    "\n",
    "ray.init(num_cpus=config.NUM_CPUS, num_gpus=config.NUM_GPUS, log_to_driver=False)\n",
    "# %config InlineBackend.figure_formats = ['svg'] # Make plots high resolution\n",
    "plt.rcParams['figure.figsize'] = (12, 12) # Increase figure size"
   ]
  },
  {
   "cell_type": "code",
   "execution_count": null,
   "metadata": {},
   "outputs": [],
   "source": []
  }
 ],
 "metadata": {
  "colab": {
   "name": "Data Exploration.ipynb",
   "provenance": []
  },
  "kernelspec": {
   "display_name": "Python 3 (ipykernel)",
   "language": "python",
   "name": "python3"
  },
  "language_info": {
   "codemirror_mode": {
    "name": "ipython",
    "version": 3
   },
   "file_extension": ".py",
   "mimetype": "text/x-python",
   "name": "python",
   "nbconvert_exporter": "python",
   "pygments_lexer": "ipython3",
   "version": "3.8.10"
  }
 },
 "nbformat": 4,
 "nbformat_minor": 1
}